{
 "cells": [
  {
   "cell_type": "code",
   "execution_count": 1,
   "metadata": {},
   "outputs": [],
   "source": [
    "import pandas as pd\n",
    "import numpy as np\n",
    "import matplotlib.pyplot as plt\n",
    "import quandl\n",
    "% matplotlib inline\n",
    "\n",
    "# ~/Dropbox/6.\\ Python/Python\\ Projects/StockData/Financial-Stock-Data-Visual\n",
    "\n",
    "#the objective of this is to get stock data to enable us to produce the statistics that we want\n",
    "#for this we will use quandl - it is easy to use and has its own package\n",
    "\n",
    "quandl.ApiConfig.api_key = 'XXXXXXX'\n",
    "quandl.ApiConfig.api_version = '2015-04-09'\n",
    "\n",
    "\n"
   ]
  },
  {
   "cell_type": "code",
   "execution_count": 9,
   "metadata": {},
   "outputs": [
    {
     "name": "stdout",
     "output_type": "stream",
     "text": [
      "     ticker\n",
      "0      AAPL\n",
      "1       ABC\n",
      "2        AA\n",
      "3      ABBV\n",
      "4       ACE\n",
      "5       AGN\n",
      "6       ADP\n",
      "7      ADSK\n",
      "8       ABT\n",
      "9       AEE\n",
      "10      ACN\n",
      "11      AEP\n",
      "12     ADBE\n",
      "13      AET\n",
      "14      ADI\n",
      "15      ADM\n",
      "16      ADS\n",
      "17      AIV\n",
      "18      ADT\n",
      "19      ALL\n",
      "20      AES\n",
      "21     ALTR\n",
      "22     ALXN\n",
      "23      AFL\n",
      "24     AMAT\n",
      "25      AIG\n",
      "26     AMGN\n",
      "27      AIZ\n",
      "28      AMT\n",
      "29     AKAM\n",
      "...     ...\n",
      "3169   BXLT\n",
      "3170   CPGX\n",
      "3171   PYPL\n",
      "3172    KHC\n",
      "3173    WRK\n",
      "3174    HPE\n",
      "3175    SYF\n",
      "3176   CSRA\n",
      "3177   WLTW\n",
      "3178    CFG\n",
      "3179   GSBD\n",
      "3180   SPGI\n",
      "3181    FTV\n",
      "3182   UA_C\n",
      "3183   ARNC\n",
      "3184    MAA\n",
      "3185    UAA\n",
      "3186    DXC\n",
      "3187   INFO\n",
      "3188    HLT\n",
      "3189   BHGE\n",
      "3190   ANDV\n",
      "3191    BHF\n",
      "3192   DWDP\n",
      "3193    TPR\n",
      "3194    IQV\n",
      "3195   APTV\n",
      "3196   WELL\n",
      "3197   BKNG\n",
      "3198   CBRE\n",
      "\n",
      "[3199 rows x 1 columns]\n"
     ]
    }
   ],
   "source": [
    "available_tickers = pd.read_csv('Data/ticker_list.csv')\n",
    "available_tickers_full = available_tickers\n",
    "available_tickers = available_tickers[['ticker']]\n",
    "\n",
    "print(available_tickers)\n",
    "\n",
    "\n"
   ]
  },
  {
   "cell_type": "code",
   "execution_count": 10,
   "metadata": {},
   "outputs": [],
   "source": [
    "import datetime"
   ]
  },
  {
   "cell_type": "code",
   "execution_count": 11,
   "metadata": {},
   "outputs": [
    {
     "name": "stdout",
     "output_type": "stream",
     "text": [
      "2018\n"
     ]
    }
   ],
   "source": [
    "today = str(datetime.date.today())\n",
    "curr_year = int(today[:4])\n",
    "\n",
    "print(curr_year)"
   ]
  },
  {
   "cell_type": "code",
   "execution_count": 12,
   "metadata": {},
   "outputs": [
    {
     "data": {
      "text/html": [
       "<div>\n",
       "<style scoped>\n",
       "    .dataframe tbody tr th:only-of-type {\n",
       "        vertical-align: middle;\n",
       "    }\n",
       "\n",
       "    .dataframe tbody tr th {\n",
       "        vertical-align: top;\n",
       "    }\n",
       "\n",
       "    .dataframe thead th {\n",
       "        text-align: right;\n",
       "    }\n",
       "</style>\n",
       "<table border=\"1\" class=\"dataframe\">\n",
       "  <thead>\n",
       "    <tr style=\"text-align: right;\">\n",
       "      <th></th>\n",
       "      <th>ticker</th>\n",
       "    </tr>\n",
       "  </thead>\n",
       "  <tbody>\n",
       "    <tr>\n",
       "      <th>0</th>\n",
       "      <td>AAPL</td>\n",
       "    </tr>\n",
       "    <tr>\n",
       "      <th>1</th>\n",
       "      <td>ABC</td>\n",
       "    </tr>\n",
       "    <tr>\n",
       "      <th>2</th>\n",
       "      <td>AA</td>\n",
       "    </tr>\n",
       "    <tr>\n",
       "      <th>3</th>\n",
       "      <td>ABBV</td>\n",
       "    </tr>\n",
       "    <tr>\n",
       "      <th>4</th>\n",
       "      <td>ACE</td>\n",
       "    </tr>\n",
       "  </tbody>\n",
       "</table>\n",
       "</div>"
      ],
      "text/plain": [
       "  ticker\n",
       "0   AAPL\n",
       "1    ABC\n",
       "2     AA\n",
       "3   ABBV\n",
       "4    ACE"
      ]
     },
     "execution_count": 12,
     "metadata": {},
     "output_type": "execute_result"
    }
   ],
   "source": [
    "available_tickers.head()"
   ]
  },
  {
   "cell_type": "code",
   "execution_count": 13,
   "metadata": {},
   "outputs": [],
   "source": [
    "ticker = 'JPM'"
   ]
  },
  {
   "cell_type": "code",
   "execution_count": 16,
   "metadata": {},
   "outputs": [
    {
     "name": "stdout",
     "output_type": "stream",
     "text": [
      "3164    JP Morgan Chase (JPM) Prices, Dividends, Split...\n",
      "Name: Company, dtype: object\n"
     ]
    }
   ],
   "source": [
    "ticker_confirm = available_tickers_full.loc[available_tickers_full['ticker'] == ticker, 'Company']\n",
    "print(ticker_confirm)"
   ]
  },
  {
   "cell_type": "code",
   "execution_count": 18,
   "metadata": {},
   "outputs": [],
   "source": [
    "stock_data = quandl.get_table('WIKI/PRICES', ticker = ticker, \n",
    "                    qopts = { 'columns': ['ticker', 'date', 'adj_close'] }, \n",
    "                    date = { 'gte': '2018-01-01', 'lte': '2018-07-15' })"
   ]
  },
  {
   "cell_type": "code",
   "execution_count": 21,
   "metadata": {},
   "outputs": [
    {
     "name": "stdout",
     "output_type": "stream",
     "text": [
      "     ticker       date  adj_close\n",
      "None                             \n",
      "39      JPM 2018-02-28     115.50\n",
      "40      JPM 2018-03-01     113.43\n",
      "41      JPM 2018-03-02     113.32\n",
      "42      JPM 2018-03-05     115.06\n",
      "43      JPM 2018-03-06     115.16\n",
      "44      JPM 2018-03-07     114.73\n",
      "45      JPM 2018-03-08     114.74\n",
      "46      JPM 2018-03-09     118.04\n",
      "47      JPM 2018-03-12     117.66\n",
      "48      JPM 2018-03-13     116.25\n",
      "49      JPM 2018-03-14     114.95\n",
      "50      JPM 2018-03-15     115.24\n",
      "51      JPM 2018-03-16     115.44\n",
      "52      JPM 2018-03-19     114.53\n",
      "53      JPM 2018-03-20     114.64\n",
      "54      JPM 2018-03-21     114.74\n",
      "55      JPM 2018-03-22     109.95\n",
      "56      JPM 2018-03-23     107.01\n",
      "57      JPM 2018-03-26     110.31\n",
      "58      JPM 2018-03-27     108.17\n"
     ]
    }
   ],
   "source": [
    "print(stock_data.tail(20))"
   ]
  },
  {
   "cell_type": "code",
   "execution_count": 23,
   "metadata": {},
   "outputs": [
    {
     "name": "stdout",
     "output_type": "stream",
     "text": [
      "     ticker       date  adj_close\n",
      "None                             \n",
      "0       JPM 2018-01-02     107.95\n",
      "1       JPM 2018-01-03     108.06\n",
      "2       JPM 2018-01-04     109.04\n",
      "3       JPM 2018-01-05     108.34\n",
      "4       JPM 2018-01-08     108.50\n",
      "5       JPM 2018-01-09     109.05\n",
      "6       JPM 2018-01-10     110.25\n",
      "7       JPM 2018-01-11     110.84\n",
      "8       JPM 2018-01-12     112.67\n",
      "9       JPM 2018-01-16     112.27\n",
      "10      JPM 2018-01-17     112.99\n",
      "11      JPM 2018-01-18     113.26\n",
      "12      JPM 2018-01-19     113.01\n",
      "13      JPM 2018-01-22     114.33\n",
      "14      JPM 2018-01-23     114.21\n",
      "15      JPM 2018-01-24     115.67\n",
      "16      JPM 2018-01-25     115.70\n",
      "17      JPM 2018-01-26     116.32\n",
      "18      JPM 2018-01-29     116.20\n",
      "19      JPM 2018-01-30     115.11\n",
      "20      JPM 2018-01-31     115.67\n",
      "21      JPM 2018-02-01     116.87\n",
      "22      JPM 2018-02-02     114.28\n",
      "23      JPM 2018-02-05     108.80\n",
      "24      JPM 2018-02-06     112.11\n",
      "25      JPM 2018-02-07     112.87\n",
      "26      JPM 2018-02-08     107.88\n",
      "27      JPM 2018-02-09     110.04\n",
      "28      JPM 2018-02-12     111.74\n",
      "29      JPM 2018-02-13     112.43\n",
      "30      JPM 2018-02-14     115.03\n",
      "31      JPM 2018-02-15     115.51\n",
      "32      JPM 2018-02-16     114.68\n",
      "33      JPM 2018-02-20     114.71\n",
      "34      JPM 2018-02-21     115.19\n",
      "35      JPM 2018-02-22     114.98\n",
      "36      JPM 2018-02-23     117.31\n",
      "37      JPM 2018-02-26     118.77\n",
      "38      JPM 2018-02-27     117.36\n",
      "39      JPM 2018-02-28     115.50\n",
      "40      JPM 2018-03-01     113.43\n",
      "41      JPM 2018-03-02     113.32\n",
      "42      JPM 2018-03-05     115.06\n",
      "43      JPM 2018-03-06     115.16\n",
      "44      JPM 2018-03-07     114.73\n",
      "45      JPM 2018-03-08     114.74\n",
      "46      JPM 2018-03-09     118.04\n",
      "47      JPM 2018-03-12     117.66\n",
      "48      JPM 2018-03-13     116.25\n",
      "49      JPM 2018-03-14     114.95\n",
      "50      JPM 2018-03-15     115.24\n",
      "51      JPM 2018-03-16     115.44\n",
      "52      JPM 2018-03-19     114.53\n",
      "53      JPM 2018-03-20     114.64\n",
      "54      JPM 2018-03-21     114.74\n",
      "55      JPM 2018-03-22     109.95\n",
      "56      JPM 2018-03-23     107.01\n",
      "57      JPM 2018-03-26     110.31\n",
      "58      JPM 2018-03-27     108.17\n"
     ]
    }
   ],
   "source": [
    "print(stock_data)"
   ]
  },
  {
   "cell_type": "code",
   "execution_count": 26,
   "metadata": {},
   "outputs": [],
   "source": [
    "stock_data_chart = stock_data[['date', 'adj_close']]"
   ]
  },
  {
   "cell_type": "code",
   "execution_count": 28,
   "metadata": {},
   "outputs": [
    {
     "name": "stdout",
     "output_type": "stream",
     "text": [
      "           date  adj_close\n",
      "None                      \n",
      "0    2018-01-02     107.95\n",
      "1    2018-01-03     108.06\n",
      "2    2018-01-04     109.04\n",
      "3    2018-01-05     108.34\n",
      "4    2018-01-08     108.50\n",
      "5    2018-01-09     109.05\n",
      "6    2018-01-10     110.25\n",
      "7    2018-01-11     110.84\n",
      "8    2018-01-12     112.67\n",
      "9    2018-01-16     112.27\n",
      "10   2018-01-17     112.99\n",
      "11   2018-01-18     113.26\n",
      "12   2018-01-19     113.01\n",
      "13   2018-01-22     114.33\n",
      "14   2018-01-23     114.21\n",
      "15   2018-01-24     115.67\n",
      "16   2018-01-25     115.70\n",
      "17   2018-01-26     116.32\n",
      "18   2018-01-29     116.20\n",
      "19   2018-01-30     115.11\n",
      "20   2018-01-31     115.67\n",
      "21   2018-02-01     116.87\n",
      "22   2018-02-02     114.28\n",
      "23   2018-02-05     108.80\n",
      "24   2018-02-06     112.11\n",
      "25   2018-02-07     112.87\n",
      "26   2018-02-08     107.88\n",
      "27   2018-02-09     110.04\n",
      "28   2018-02-12     111.74\n",
      "29   2018-02-13     112.43\n",
      "30   2018-02-14     115.03\n",
      "31   2018-02-15     115.51\n",
      "32   2018-02-16     114.68\n",
      "33   2018-02-20     114.71\n",
      "34   2018-02-21     115.19\n",
      "35   2018-02-22     114.98\n",
      "36   2018-02-23     117.31\n",
      "37   2018-02-26     118.77\n",
      "38   2018-02-27     117.36\n",
      "39   2018-02-28     115.50\n",
      "40   2018-03-01     113.43\n",
      "41   2018-03-02     113.32\n",
      "42   2018-03-05     115.06\n",
      "43   2018-03-06     115.16\n",
      "44   2018-03-07     114.73\n",
      "45   2018-03-08     114.74\n",
      "46   2018-03-09     118.04\n",
      "47   2018-03-12     117.66\n",
      "48   2018-03-13     116.25\n",
      "49   2018-03-14     114.95\n",
      "50   2018-03-15     115.24\n",
      "51   2018-03-16     115.44\n",
      "52   2018-03-19     114.53\n",
      "53   2018-03-20     114.64\n",
      "54   2018-03-21     114.74\n",
      "55   2018-03-22     109.95\n",
      "56   2018-03-23     107.01\n",
      "57   2018-03-26     110.31\n",
      "58   2018-03-27     108.17\n"
     ]
    }
   ],
   "source": [
    "print(stock_data_chart)"
   ]
  },
  {
   "cell_type": "code",
   "execution_count": null,
   "metadata": {},
   "outputs": [],
   "source": []
  }
 ],
 "metadata": {
  "kernelspec": {
   "display_name": "Python 3",
   "language": "python",
   "name": "python3"
  },
  "language_info": {
   "codemirror_mode": {
    "name": "ipython",
    "version": 3
   },
   "file_extension": ".py",
   "mimetype": "text/x-python",
   "name": "python",
   "nbconvert_exporter": "python",
   "pygments_lexer": "ipython3",
   "version": "3.6.5"
  }
 },
 "nbformat": 4,
 "nbformat_minor": 2
}
