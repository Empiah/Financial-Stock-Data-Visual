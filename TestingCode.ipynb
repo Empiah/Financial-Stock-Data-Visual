{
 "cells": [
  {
   "cell_type": "code",
   "execution_count": 1,
   "metadata": {},
   "outputs": [],
   "source": [
    "import pandas as pd\n",
    "import numpy as np\n",
    "import matplotlib.pyplot as plt\n",
    "import quandl\n",
    "\n",
    "# ~/Dropbox/6.\\ Python/Python\\ Projects/StockData/Financial-Stock-Data-Visual\n",
    "\n",
    "#the objective of this is to get stock data to enable us to produce the statistics that we want\n",
    "#for this we will use quandl - it is easy to use and has its own package\n",
    "\n",
    "quandl.ApiConfig.api_key = 'EYNDSC9qo_AsccGyr4gR'\n",
    "quandl.ApiConfig.api_version = '2015-04-09'\n",
    "\n",
    "\n"
   ]
  },
  {
   "cell_type": "code",
   "execution_count": 9,
   "metadata": {},
   "outputs": [
    {
     "name": "stdout",
     "output_type": "stream",
     "text": [
      "     ticker\n",
      "0      AAPL\n",
      "1       ABC\n",
      "2        AA\n",
      "3         V\n",
      "4       ACE\n",
      "5        GN\n",
      "6        DP\n",
      "7        SK\n",
      "8       ABT\n",
      "9        EE\n",
      "10       CN\n",
      "11       EP\n",
      "12       BE\n",
      "13      AET\n",
      "14       DI\n",
      "15       DM\n",
      "16       DS\n",
      "17       IV\n",
      "18       DT\n",
      "19       LL\n",
      "20       ES\n",
      "21       TR\n",
      "22      LXN\n",
      "23      AFL\n",
      "24       AT\n",
      "25      AIG\n",
      "26       GN\n",
      "27      AIZ\n",
      "28       MT\n",
      "29       AM\n",
      "...     ...\n",
      "3169     LT\n",
      "3170    PGX\n",
      "3171    YPL\n",
      "3172    KHC\n",
      "3173     RK\n",
      "3174     PE\n",
      "3175     YF\n",
      "3176     RA\n",
      "3177    LTW\n",
      "3178    CFG\n",
      "3179     BD\n",
      "3180    PGI\n",
      "3181    FTV\n",
      "3182     _C\n",
      "3183    RNC\n",
      "3184    MAA\n",
      "3185     AA\n",
      "3186     XC\n",
      "3187     FO\n",
      "3188    HLT\n",
      "3189     GE\n",
      "3190    NDV\n",
      "3191    BHF\n",
      "3192     DP\n",
      "3193    TPR\n",
      "3194     QV\n",
      "3195     TV\n",
      "3196    ELL\n",
      "3197    KNG\n",
      "3198    BRE\n",
      "\n",
      "[3199 rows x 1 columns]\n"
     ]
    }
   ],
   "source": [
    "available_tickers = pd.read_csv('Data/ticker_list.csv')\n",
    "available_tickers = available_tickers[['ticker']]\n",
    "\n",
    "print(available_tickers)\n",
    "\n",
    "\n"
   ]
  },
  {
   "cell_type": "code",
   "execution_count": 1,
   "metadata": {},
   "outputs": [],
   "source": [
    "import datetime"
   ]
  },
  {
   "cell_type": "code",
   "execution_count": 3,
   "metadata": {},
   "outputs": [
    {
     "name": "stdout",
     "output_type": "stream",
     "text": [
      "2018\n"
     ]
    }
   ],
   "source": [
    "today = str(datetime.date.today())\n",
    "curr_year = int(today[:4])\n",
    "\n",
    "print(curr_year)"
   ]
  },
  {
   "cell_type": "code",
   "execution_count": null,
   "metadata": {},
   "outputs": [],
   "source": []
  }
 ],
 "metadata": {
  "kernelspec": {
   "display_name": "Python 3",
   "language": "python",
   "name": "python3"
  },
  "language_info": {
   "codemirror_mode": {
    "name": "ipython",
    "version": 3
   },
   "file_extension": ".py",
   "mimetype": "text/x-python",
   "name": "python",
   "nbconvert_exporter": "python",
   "pygments_lexer": "ipython3",
   "version": "3.6.5"
  }
 },
 "nbformat": 4,
 "nbformat_minor": 2
}
