{
 "cells": [
  {
   "cell_type": "code",
   "execution_count": 118,
   "metadata": {},
   "outputs": [],
   "source": [
    "import pandas as pd\n",
    "import numpy as np\n",
    "import matplotlib.pyplot as plt\n",
    "import quandl\n",
    "import talib\n",
    "% matplotlib inline\n",
    "\n",
    "# ~/Dropbox/6.\\ Python/Python\\ Projects/StockData/Financial-Stock-Data-Visual\n",
    "\n",
    "#the objective of this is to get stock data to enable us to produce the statistics that we want\n",
    "#for this we will use quandl - it is easy to use and has its own package\n",
    "\n",
    "quandl.ApiConfig.api_key = 'EYNDSC9qo_AsccGyr4gR'\n",
    "quandl.ApiConfig.api_version = '2015-04-09'\n",
    "\n",
    "\n"
   ]
  },
  {
   "cell_type": "code",
   "execution_count": 9,
   "metadata": {},
   "outputs": [
    {
     "name": "stdout",
     "output_type": "stream",
     "text": [
      "     ticker\n",
      "0      AAPL\n",
      "1       ABC\n",
      "2        AA\n",
      "3      ABBV\n",
      "4       ACE\n",
      "5       AGN\n",
      "6       ADP\n",
      "7      ADSK\n",
      "8       ABT\n",
      "9       AEE\n",
      "10      ACN\n",
      "11      AEP\n",
      "12     ADBE\n",
      "13      AET\n",
      "14      ADI\n",
      "15      ADM\n",
      "16      ADS\n",
      "17      AIV\n",
      "18      ADT\n",
      "19      ALL\n",
      "20      AES\n",
      "21     ALTR\n",
      "22     ALXN\n",
      "23      AFL\n",
      "24     AMAT\n",
      "25      AIG\n",
      "26     AMGN\n",
      "27      AIZ\n",
      "28      AMT\n",
      "29     AKAM\n",
      "...     ...\n",
      "3169   BXLT\n",
      "3170   CPGX\n",
      "3171   PYPL\n",
      "3172    KHC\n",
      "3173    WRK\n",
      "3174    HPE\n",
      "3175    SYF\n",
      "3176   CSRA\n",
      "3177   WLTW\n",
      "3178    CFG\n",
      "3179   GSBD\n",
      "3180   SPGI\n",
      "3181    FTV\n",
      "3182   UA_C\n",
      "3183   ARNC\n",
      "3184    MAA\n",
      "3185    UAA\n",
      "3186    DXC\n",
      "3187   INFO\n",
      "3188    HLT\n",
      "3189   BHGE\n",
      "3190   ANDV\n",
      "3191    BHF\n",
      "3192   DWDP\n",
      "3193    TPR\n",
      "3194    IQV\n",
      "3195   APTV\n",
      "3196   WELL\n",
      "3197   BKNG\n",
      "3198   CBRE\n",
      "\n",
      "[3199 rows x 1 columns]\n"
     ]
    }
   ],
   "source": [
    "available_tickers = pd.read_csv('Data/ticker_list.csv')\n",
    "available_tickers_full = available_tickers\n",
    "available_tickers = available_tickers[['ticker']]\n",
    "\n",
    "print(available_tickers)\n",
    "\n",
    "\n"
   ]
  },
  {
   "cell_type": "code",
   "execution_count": 10,
   "metadata": {},
   "outputs": [],
   "source": [
    "import datetime"
   ]
  },
  {
   "cell_type": "code",
   "execution_count": 11,
   "metadata": {},
   "outputs": [
    {
     "name": "stdout",
     "output_type": "stream",
     "text": [
      "2018\n"
     ]
    }
   ],
   "source": [
    "today = str(datetime.date.today())\n",
    "curr_year = int(today[:4])\n",
    "\n",
    "print(curr_year)"
   ]
  },
  {
   "cell_type": "code",
   "execution_count": 12,
   "metadata": {},
   "outputs": [
    {
     "data": {
      "text/html": [
       "<div>\n",
       "<style scoped>\n",
       "    .dataframe tbody tr th:only-of-type {\n",
       "        vertical-align: middle;\n",
       "    }\n",
       "\n",
       "    .dataframe tbody tr th {\n",
       "        vertical-align: top;\n",
       "    }\n",
       "\n",
       "    .dataframe thead th {\n",
       "        text-align: right;\n",
       "    }\n",
       "</style>\n",
       "<table border=\"1\" class=\"dataframe\">\n",
       "  <thead>\n",
       "    <tr style=\"text-align: right;\">\n",
       "      <th></th>\n",
       "      <th>ticker</th>\n",
       "    </tr>\n",
       "  </thead>\n",
       "  <tbody>\n",
       "    <tr>\n",
       "      <th>0</th>\n",
       "      <td>AAPL</td>\n",
       "    </tr>\n",
       "    <tr>\n",
       "      <th>1</th>\n",
       "      <td>ABC</td>\n",
       "    </tr>\n",
       "    <tr>\n",
       "      <th>2</th>\n",
       "      <td>AA</td>\n",
       "    </tr>\n",
       "    <tr>\n",
       "      <th>3</th>\n",
       "      <td>ABBV</td>\n",
       "    </tr>\n",
       "    <tr>\n",
       "      <th>4</th>\n",
       "      <td>ACE</td>\n",
       "    </tr>\n",
       "  </tbody>\n",
       "</table>\n",
       "</div>"
      ],
      "text/plain": [
       "  ticker\n",
       "0   AAPL\n",
       "1    ABC\n",
       "2     AA\n",
       "3   ABBV\n",
       "4    ACE"
      ]
     },
     "execution_count": 12,
     "metadata": {},
     "output_type": "execute_result"
    }
   ],
   "source": [
    "available_tickers.head()"
   ]
  },
  {
   "cell_type": "code",
   "execution_count": 13,
   "metadata": {},
   "outputs": [],
   "source": [
    "ticker = 'JPM'"
   ]
  },
  {
   "cell_type": "code",
   "execution_count": 16,
   "metadata": {},
   "outputs": [
    {
     "name": "stdout",
     "output_type": "stream",
     "text": [
      "3164    JP Morgan Chase (JPM) Prices, Dividends, Split...\n",
      "Name: Company, dtype: object\n"
     ]
    }
   ],
   "source": [
    "ticker_confirm = available_tickers_full.loc[available_tickers_full['ticker'] == ticker, 'Company']\n",
    "print(ticker_confirm)"
   ]
  },
  {
   "cell_type": "code",
   "execution_count": 124,
   "metadata": {},
   "outputs": [],
   "source": [
    "stock_data = quandl.get_table('WIKI/PRICES', ticker = ticker, \n",
    "                    qopts = { 'columns': ['ticker', 'date', 'adj_close'] }, \n",
    "                    date = { 'gte': '2018-01-01', 'lte': '2018-07-15' })"
   ]
  },
  {
   "cell_type": "code",
   "execution_count": 125,
   "metadata": {
    "scrolled": true
   },
   "outputs": [
    {
     "data": {
      "text/html": [
       "<div>\n",
       "<style scoped>\n",
       "    .dataframe tbody tr th:only-of-type {\n",
       "        vertical-align: middle;\n",
       "    }\n",
       "\n",
       "    .dataframe tbody tr th {\n",
       "        vertical-align: top;\n",
       "    }\n",
       "\n",
       "    .dataframe thead th {\n",
       "        text-align: right;\n",
       "    }\n",
       "</style>\n",
       "<table border=\"1\" class=\"dataframe\">\n",
       "  <thead>\n",
       "    <tr style=\"text-align: right;\">\n",
       "      <th></th>\n",
       "      <th>ticker</th>\n",
       "      <th>date</th>\n",
       "      <th>adj_close</th>\n",
       "    </tr>\n",
       "    <tr>\n",
       "      <th>None</th>\n",
       "      <th></th>\n",
       "      <th></th>\n",
       "      <th></th>\n",
       "    </tr>\n",
       "  </thead>\n",
       "  <tbody>\n",
       "    <tr>\n",
       "      <th>0</th>\n",
       "      <td>JPM</td>\n",
       "      <td>2018-01-02</td>\n",
       "      <td>107.95</td>\n",
       "    </tr>\n",
       "    <tr>\n",
       "      <th>1</th>\n",
       "      <td>JPM</td>\n",
       "      <td>2018-01-03</td>\n",
       "      <td>108.06</td>\n",
       "    </tr>\n",
       "    <tr>\n",
       "      <th>2</th>\n",
       "      <td>JPM</td>\n",
       "      <td>2018-01-04</td>\n",
       "      <td>109.04</td>\n",
       "    </tr>\n",
       "    <tr>\n",
       "      <th>3</th>\n",
       "      <td>JPM</td>\n",
       "      <td>2018-01-05</td>\n",
       "      <td>108.34</td>\n",
       "    </tr>\n",
       "    <tr>\n",
       "      <th>4</th>\n",
       "      <td>JPM</td>\n",
       "      <td>2018-01-08</td>\n",
       "      <td>108.50</td>\n",
       "    </tr>\n",
       "  </tbody>\n",
       "</table>\n",
       "</div>"
      ],
      "text/plain": [
       "     ticker       date  adj_close\n",
       "None                             \n",
       "0       JPM 2018-01-02     107.95\n",
       "1       JPM 2018-01-03     108.06\n",
       "2       JPM 2018-01-04     109.04\n",
       "3       JPM 2018-01-05     108.34\n",
       "4       JPM 2018-01-08     108.50"
      ]
     },
     "execution_count": 125,
     "metadata": {},
     "output_type": "execute_result"
    }
   ],
   "source": [
    "stock_data.head()"
   ]
  },
  {
   "cell_type": "code",
   "execution_count": 126,
   "metadata": {},
   "outputs": [
    {
     "data": {
      "text/html": [
       "<div>\n",
       "<style scoped>\n",
       "    .dataframe tbody tr th:only-of-type {\n",
       "        vertical-align: middle;\n",
       "    }\n",
       "\n",
       "    .dataframe tbody tr th {\n",
       "        vertical-align: top;\n",
       "    }\n",
       "\n",
       "    .dataframe thead th {\n",
       "        text-align: right;\n",
       "    }\n",
       "</style>\n",
       "<table border=\"1\" class=\"dataframe\">\n",
       "  <thead>\n",
       "    <tr style=\"text-align: right;\">\n",
       "      <th></th>\n",
       "      <th>adj_close</th>\n",
       "    </tr>\n",
       "    <tr>\n",
       "      <th>date</th>\n",
       "      <th></th>\n",
       "    </tr>\n",
       "  </thead>\n",
       "  <tbody>\n",
       "    <tr>\n",
       "      <th>2018-01-02</th>\n",
       "      <td>107.95</td>\n",
       "    </tr>\n",
       "    <tr>\n",
       "      <th>2018-01-03</th>\n",
       "      <td>108.06</td>\n",
       "    </tr>\n",
       "    <tr>\n",
       "      <th>2018-01-04</th>\n",
       "      <td>109.04</td>\n",
       "    </tr>\n",
       "    <tr>\n",
       "      <th>2018-01-05</th>\n",
       "      <td>108.34</td>\n",
       "    </tr>\n",
       "    <tr>\n",
       "      <th>2018-01-08</th>\n",
       "      <td>108.50</td>\n",
       "    </tr>\n",
       "  </tbody>\n",
       "</table>\n",
       "</div>"
      ],
      "text/plain": [
       "            adj_close\n",
       "date                 \n",
       "2018-01-02     107.95\n",
       "2018-01-03     108.06\n",
       "2018-01-04     109.04\n",
       "2018-01-05     108.34\n",
       "2018-01-08     108.50"
      ]
     },
     "execution_count": 126,
     "metadata": {},
     "output_type": "execute_result"
    }
   ],
   "source": [
    "stock_data.set_index('date', inplace=True)\n",
    "stock_data = stock_data[['adj_close']]\n",
    "stock_data.head()"
   ]
  },
  {
   "cell_type": "code",
   "execution_count": 119,
   "metadata": {},
   "outputs": [],
   "source": [
    "macd, macdsignal, macdhist = talib.MACD(stock_data['adj_close'], fastperiod=12, slowperiod=26, signalperiod=9)"
   ]
  },
  {
   "cell_type": "code",
   "execution_count": 123,
   "metadata": {},
   "outputs": [
    {
     "name": "stdout",
     "output_type": "stream",
     "text": [
      "date\n",
      "2018-03-21    0.318375\n",
      "2018-03-22   -0.125760\n",
      "2018-03-23   -0.706825\n",
      "2018-03-26   -0.890773\n",
      "2018-03-27   -1.195453\n",
      "dtype: float64\n"
     ]
    }
   ],
   "source": [
    "print(macd.tail())"
   ]
  },
  {
   "cell_type": "code",
   "execution_count": null,
   "metadata": {},
   "outputs": [],
   "source": []
  }
 ],
 "metadata": {
  "kernelspec": {
   "display_name": "Python 3",
   "language": "python",
   "name": "python3"
  },
  "language_info": {
   "codemirror_mode": {
    "name": "ipython",
    "version": 3
   },
   "file_extension": ".py",
   "mimetype": "text/x-python",
   "name": "python",
   "nbconvert_exporter": "python",
   "pygments_lexer": "ipython3",
   "version": "3.6.5"
  }
 },
 "nbformat": 4,
 "nbformat_minor": 2
}
